{
 "cells": [
  {
   "cell_type": "code",
   "execution_count": 1,
   "id": "31d94070-9700-4a5c-ac26-cc3227adb3d1",
   "metadata": {},
   "outputs": [],
   "source": [
    "import win32gui\n",
    "import win32ui\n",
    "import win32con\n",
    "import win32api\n",
    "\n",
    "import numpy as np\n",
    "\n",
    "from PIL import Image"
   ]
  },
  {
   "cell_type": "code",
   "execution_count": 2,
   "id": "f97c3da4-87aa-42f8-9d63-2e322c46d66b",
   "metadata": {},
   "outputs": [],
   "source": [
    "from handler import initialize_ocr_reader, Handler"
   ]
  },
  {
   "cell_type": "code",
   "execution_count": 3,
   "id": "ddd547bd-99d5-4e5a-a48a-89ab88716291",
   "metadata": {},
   "outputs": [],
   "source": [
    "handler = Handler('D:\\Citra3ds\\citra-windows-msvc-20240601-de1f082\\citra-qt.exe')"
   ]
  },
  {
   "cell_type": "code",
   "execution_count": 4,
   "id": "94511864-d74d-4bbb-a977-322d5067d740",
   "metadata": {},
   "outputs": [
    {
     "data": {
      "text/plain": [
       "(1928, 1048)"
      ]
     },
     "execution_count": 4,
     "metadata": {},
     "output_type": "execute_result"
    }
   ],
   "source": [
    "handler.get_resolution()"
   ]
  },
  {
   "cell_type": "code",
   "execution_count": 8,
   "id": "1d80fcba-f134-4744-b36e-9a65b2044ae5",
   "metadata": {},
   "outputs": [
    {
     "data": {
      "text/plain": [
       "0"
      ]
     },
     "execution_count": 8,
     "metadata": {},
     "output_type": "execute_result"
    }
   ],
   "source": [
    "win32gui.GetActiveWindow()"
   ]
  },
  {
   "cell_type": "code",
   "execution_count": 9,
   "id": "f158eae4-85cc-4719-ba05-bdac84eb55b1",
   "metadata": {},
   "outputs": [
    {
     "data": {
      "text/plain": [
       "0"
      ]
     },
     "execution_count": 9,
     "metadata": {},
     "output_type": "execute_result"
    }
   ],
   "source": [
    "win32gui.GetFocus()"
   ]
  },
  {
   "cell_type": "code",
   "execution_count": 12,
   "id": "f9d85b80-927a-4e6a-a9d8-4b4a6e869802",
   "metadata": {},
   "outputs": [
    {
     "data": {
      "text/plain": [
       "265350"
      ]
     },
     "execution_count": 12,
     "metadata": {},
     "output_type": "execute_result"
    }
   ],
   "source": [
    "win32gui.GetForegroundWindow()"
   ]
  },
  {
   "cell_type": "code",
   "execution_count": 15,
   "id": "f39edeea-95b6-44b6-9ad3-58f2405ce466",
   "metadata": {},
   "outputs": [],
   "source": [
    "win32gui.MoveWindow(265350, 100,100,100,100, 1)"
   ]
  },
  {
   "cell_type": "code",
   "execution_count": 16,
   "id": "361faa40-6371-4051-9199-be9604465388",
   "metadata": {},
   "outputs": [
    {
     "data": {
      "text/plain": [
       "(2, 3, (-32000, -32000), (-1, -1), (274, 112, 1242, 1143))"
      ]
     },
     "execution_count": 16,
     "metadata": {},
     "output_type": "execute_result"
    }
   ],
   "source": [
    "win32gui.GetWindowPlacement(265350)"
   ]
  },
  {
   "cell_type": "code",
   "execution_count": null,
   "id": "a24dfebb-a16d-46bd-af04-65e12c5f9996",
   "metadata": {},
   "outputs": [],
   "source": [
    "# win32gui.CloseWindow()"
   ]
  },
  {
   "cell_type": "code",
   "execution_count": 20,
   "id": "c57dcb4a-9916-4554-9cff-c4daf7249ed5",
   "metadata": {},
   "outputs": [],
   "source": [
    "edit_hwnd = win32gui.FindWindowEx(265350, None, 'EDIT', None)"
   ]
  },
  {
   "cell_type": "code",
   "execution_count": 22,
   "id": "5bcb9b2b-b825-4be7-b8b6-237cbcca4aae",
   "metadata": {},
   "outputs": [
    {
     "data": {
      "text/plain": [
       "0"
      ]
     },
     "execution_count": 22,
     "metadata": {},
     "output_type": "execute_result"
    }
   ],
   "source": [
    "# win32gui.SendMessage(edit_hwnd, win32con.WM_CHAR, ord('g'), 0)"
   ]
  },
  {
   "cell_type": "code",
   "execution_count": null,
   "id": "312c3d4d-24ee-4c3b-b2c1-f056febe0886",
   "metadata": {},
   "outputs": [],
   "source": [
    "# import win32gui\n",
    "# import win32con\n",
    "\n",
    "# # Find the window handle (hwnd) for the Notepad window\n",
    "# hwnd = win32gui.FindWindow(None, \"Untitled - Notepad\")\n",
    "\n",
    "# # Get the handle of the edit control within the Notepad window\n",
    "# edit_hwnd = win32gui.FindWindowEx(hwnd, None, \"Edit\", None)\n",
    "\n",
    "# # Send each character of \"AMOGUS\" to the edit control\n",
    "# for char in \"AMOGUS\":\n",
    "#     win32gui.SendMessage(edit_hwnd, win32con.WM_CHAR, ord(char), 0)\n",
    "\n",
    "# print(\"Text 'AMOGUS' sent to the background window.\")\n"
   ]
  },
  {
   "cell_type": "code",
   "execution_count": null,
   "id": "62486df9-3abd-4e3d-9299-8e135f7dd230",
   "metadata": {},
   "outputs": [],
   "source": [
    "# import win32api\n",
    "# import win32con\n",
    "# import win32gui\n",
    "\n",
    "# # Find the window handle (hwnd) for the Notepad window\n",
    "# hwnd = win32gui.FindWindow(None, \"Untitled - Notepad\")\n",
    "\n",
    "# # Get the coordinates of the window\n",
    "# rect = win32gui.GetWindowRect(hwnd)\n",
    "# x = rect[0] + 50  # Adjust as needed\n",
    "# y = rect[1] + 50  # Adjust as needed\n",
    "\n",
    "# # Move the cursor to the coordinates and perform a double-click\n",
    "# win32api.SetCursorPos((x, y))\n",
    "# win32api.mouse_event(win32con.MOUSEEVENTF_LEFTDOWN, x, y, 0, 0)\n",
    "# win32api.mouse_event(win32con.MOUSEEVENTF_LEFTUP, x, y, 0, 0)\n",
    "# win32api.mouse_event(win32con.MOUSEEVENTF_LEFTDOWN, x, y, 0, 0)\n",
    "# win32api.mouse_event(win32con.MOUSEEVENTF_LEFTUP, x, y, 0, 0)\n",
    "\n",
    "# print(\"Double-click simulated.\")"
   ]
  }
 ],
 "metadata": {
  "kernelspec": {
   "display_name": "Python 3 (ipykernel)",
   "language": "python",
   "name": "python3"
  },
  "language_info": {
   "codemirror_mode": {
    "name": "ipython",
    "version": 3
   },
   "file_extension": ".py",
   "mimetype": "text/x-python",
   "name": "python",
   "nbconvert_exporter": "python",
   "pygments_lexer": "ipython3",
   "version": "3.11.0"
  }
 },
 "nbformat": 4,
 "nbformat_minor": 5
}
