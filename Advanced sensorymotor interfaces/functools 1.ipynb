{
 "cells": [
  {
   "cell_type": "code",
   "execution_count": 1,
   "id": "31d94070-9700-4a5c-ac26-cc3227adb3d1",
   "metadata": {},
   "outputs": [],
   "source": [
    "import win32gui\n",
    "import win32ui\n",
    "import win32con\n",
    "import win32api\n",
    "\n",
    "import numpy as np\n",
    "\n",
    "from PIL import Image"
   ]
  },
  {
   "cell_type": "code",
   "execution_count": 3,
   "id": "ff93bab8-11ac-4f8d-afac-8c01b5f356fd",
   "metadata": {},
   "outputs": [
    {
     "data": {
      "text/plain": [
       "19"
      ]
     },
     "execution_count": 3,
     "metadata": {},
     "output_type": "execute_result"
    }
   ],
   "source": [
    "win32con.SW"
   ]
  },
  {
   "cell_type": "code",
   "execution_count": 4,
   "id": "cccf5336-022f-4816-ab9e-4c1e1a0693be",
   "metadata": {},
   "outputs": [],
   "source": []
  },
  {
   "cell_type": "code",
   "execution_count": 2,
   "id": "f97c3da4-87aa-42f8-9d63-2e322c46d66b",
   "metadata": {},
   "outputs": [],
   "source": [
    "from handler import initialize_ocr_reader, Handler"
   ]
  },
  {
   "cell_type": "code",
   "execution_count": 3,
   "id": "ddd547bd-99d5-4e5a-a48a-89ab88716291",
   "metadata": {},
   "outputs": [],
   "source": [
    "handler = Handler('D:\\\\Citra3ds\\\\citra-windows-msvc-20240601-de1f082\\\\citra-qt.exe')"
   ]
  },
  {
   "cell_type": "code",
   "execution_count": 4,
   "id": "94511864-d74d-4bbb-a977-322d5067d740",
   "metadata": {},
   "outputs": [
    {
     "data": {
      "text/plain": [
       "(1928, 1048)"
      ]
     },
     "execution_count": 4,
     "metadata": {},
     "output_type": "execute_result"
    }
   ],
   "source": [
    "handler.resolution"
   ]
  },
  {
   "cell_type": "code",
   "execution_count": 8,
   "id": "e4f98f32-488f-4d54-8aeb-5b801aa057b4",
   "metadata": {},
   "outputs": [
    {
     "ename": "error",
     "evalue": "(1400, 'GetWindowDC', 'Ungültiges Fensterhandle')",
     "output_type": "error",
     "traceback": [
      "\u001b[1;31m---------------------------------------------------------------------------\u001b[0m",
      "\u001b[1;31merror\u001b[0m                                     Traceback (most recent call last)",
      "Cell \u001b[1;32mIn[8], line 1\u001b[0m\n\u001b[1;32m----> 1\u001b[0m \u001b[43mhandler\u001b[49m\u001b[38;5;241;43m.\u001b[39;49m\u001b[43mbackground_screenshot\u001b[49m\u001b[43m(\u001b[49m\u001b[43m)\u001b[49m\n",
      "File \u001b[1;32m~\\Utils\\Advanced sensorymotor interfaces\\handler.py:78\u001b[0m, in \u001b[0;36mHandler.background_screenshot\u001b[1;34m(self)\u001b[0m\n\u001b[0;32m     77\u001b[0m \u001b[38;5;28;01mdef\u001b[39;00m \u001b[38;5;21mbackground_screenshot\u001b[39m(\u001b[38;5;28mself\u001b[39m):\n\u001b[1;32m---> 78\u001b[0m     wdc \u001b[38;5;241m=\u001b[39m \u001b[43mwin32gui\u001b[49m\u001b[38;5;241;43m.\u001b[39;49m\u001b[43mGetWindowDC\u001b[49m\u001b[43m(\u001b[49m\u001b[38;5;28;43mself\u001b[39;49m\u001b[38;5;241;43m.\u001b[39;49m\u001b[43mhwnd\u001b[49m\u001b[43m)\u001b[49m\n\u001b[0;32m     79\u001b[0m     dc_obj\u001b[38;5;241m=\u001b[39mwin32ui\u001b[38;5;241m.\u001b[39mCreateDCFromHandle(wdc)\n\u001b[0;32m     80\u001b[0m     cdc\u001b[38;5;241m=\u001b[39mdc_obj\u001b[38;5;241m.\u001b[39mCreateCompatibleDC()\n",
      "\u001b[1;31merror\u001b[0m: (1400, 'GetWindowDC', 'Ungültiges Fensterhandle')"
     ]
    }
   ],
   "source": [
    "handler.background_screenshot()"
   ]
  },
  {
   "cell_type": "code",
   "execution_count": 7,
   "id": "2654ac92-585a-450c-8b3e-efe06d6643c8",
   "metadata": {},
   "outputs": [],
   "source": [
    "handler.maximize()"
   ]
  },
  {
   "cell_type": "code",
   "execution_count": null,
   "id": "1d80fcba-f134-4744-b36e-9a65b2044ae5",
   "metadata": {},
   "outputs": [],
   "source": [
    "win32gui.GetActiveWindow()"
   ]
  },
  {
   "cell_type": "code",
   "execution_count": null,
   "id": "f158eae4-85cc-4719-ba05-bdac84eb55b1",
   "metadata": {},
   "outputs": [],
   "source": [
    "win32gui.GetFocus()"
   ]
  },
  {
   "cell_type": "code",
   "execution_count": null,
   "id": "f9d85b80-927a-4e6a-a9d8-4b4a6e869802",
   "metadata": {},
   "outputs": [],
   "source": [
    "win32gui.GetForegroundWindow()"
   ]
  },
  {
   "cell_type": "code",
   "execution_count": null,
   "id": "f39edeea-95b6-44b6-9ad3-58f2405ce466",
   "metadata": {},
   "outputs": [],
   "source": [
    "win32gui.MoveWindow(265350, 100,100,100,100, 1)"
   ]
  },
  {
   "cell_type": "code",
   "execution_count": null,
   "id": "361faa40-6371-4051-9199-be9604465388",
   "metadata": {},
   "outputs": [],
   "source": [
    "win32gui.GetWindowPlacement(265350)"
   ]
  },
  {
   "cell_type": "code",
   "execution_count": null,
   "id": "a24dfebb-a16d-46bd-af04-65e12c5f9996",
   "metadata": {},
   "outputs": [],
   "source": [
    "# win32gui.CloseWindow()"
   ]
  },
  {
   "cell_type": "code",
   "execution_count": null,
   "id": "c57dcb4a-9916-4554-9cff-c4daf7249ed5",
   "metadata": {},
   "outputs": [],
   "source": [
    "edit_hwnd = win32gui.FindWindowEx(265350, None, 'EDIT', None)"
   ]
  },
  {
   "cell_type": "code",
   "execution_count": null,
   "id": "5bcb9b2b-b825-4be7-b8b6-237cbcca4aae",
   "metadata": {},
   "outputs": [],
   "source": [
    "# win32gui.SendMessage(edit_hwnd, win32con.WM_CHAR, ord('g'), 0)"
   ]
  },
  {
   "cell_type": "code",
   "execution_count": null,
   "id": "312c3d4d-24ee-4c3b-b2c1-f056febe0886",
   "metadata": {},
   "outputs": [],
   "source": [
    "# import win32gui\n",
    "# import win32con\n",
    "\n",
    "# # Find the window handle (hwnd) for the Notepad window\n",
    "# hwnd = win32gui.FindWindow(None, \"Untitled - Notepad\")\n",
    "\n",
    "# # Get the handle of the edit control within the Notepad window\n",
    "# edit_hwnd = win32gui.FindWindowEx(hwnd, None, \"Edit\", None)\n",
    "\n",
    "# # Send each character of \"AMOGUS\" to the edit control\n",
    "# for char in \"AMOGUS\":\n",
    "#     win32gui.SendMessage(edit_hwnd, win32con.WM_CHAR, ord(char), 0)\n",
    "\n",
    "# print(\"Text 'AMOGUS' sent to the background window.\")\n"
   ]
  },
  {
   "cell_type": "code",
   "execution_count": null,
   "id": "62486df9-3abd-4e3d-9299-8e135f7dd230",
   "metadata": {},
   "outputs": [],
   "source": [
    "# import win32api\n",
    "# import win32con\n",
    "# import win32gui\n",
    "\n",
    "# # Find the window handle (hwnd) for the Notepad window\n",
    "# hwnd = win32gui.FindWindow(None, \"Untitled - Notepad\")\n",
    "\n",
    "# # Get the coordinates of the window\n",
    "# rect = win32gui.GetWindowRect(hwnd)\n",
    "# x = rect[0] + 50  # Adjust as needed\n",
    "# y = rect[1] + 50  # Adjust as needed\n",
    "\n",
    "# # Move the cursor to the coordinates and perform a double-click\n",
    "# win32api.SetCursorPos((x, y))\n",
    "# win32api.mouse_event(win32con.MOUSEEVENTF_LEFTDOWN, x, y, 0, 0)\n",
    "# win32api.mouse_event(win32con.MOUSEEVENTF_LEFTUP, x, y, 0, 0)\n",
    "# win32api.mouse_event(win32con.MOUSEEVENTF_LEFTDOWN, x, y, 0, 0)\n",
    "# win32api.mouse_event(win32con.MOUSEEVENTF_LEFTUP, x, y, 0, 0)\n",
    "\n",
    "# print(\"Double-click simulated.\")"
   ]
  }
 ],
 "metadata": {
  "kernelspec": {
   "display_name": "Python 3 (ipykernel)",
   "language": "python",
   "name": "python3"
  },
  "language_info": {
   "codemirror_mode": {
    "name": "ipython",
    "version": 3
   },
   "file_extension": ".py",
   "mimetype": "text/x-python",
   "name": "python",
   "nbconvert_exporter": "python",
   "pygments_lexer": "ipython3",
   "version": "3.11.0"
  }
 },
 "nbformat": 4,
 "nbformat_minor": 5
}
